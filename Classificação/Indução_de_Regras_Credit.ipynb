{
  "nbformat": 4,
  "nbformat_minor": 0,
  "metadata": {
    "colab": {
      "provenance": [],
      "authorship_tag": "ABX9TyNmEm9Tqi9HPxOPhJi3qh71",
      "include_colab_link": true
    },
    "kernelspec": {
      "name": "python3",
      "display_name": "Python 3"
    },
    "language_info": {
      "name": "python"
    }
  },
  "cells": [
    {
      "cell_type": "markdown",
      "metadata": {
        "id": "view-in-github",
        "colab_type": "text"
      },
      "source": [
        "<a href=\"https://colab.research.google.com/github/leoanholetto1/Data-Science/blob/main/Indu%C3%A7%C3%A3o_de_Regras_Credit.ipynb\" target=\"_parent\"><img src=\"https://colab.research.google.com/assets/colab-badge.svg\" alt=\"Open In Colab\"/></a>"
      ]
    },
    {
      "cell_type": "code",
      "source": [
        "import Orange"
      ],
      "metadata": {
        "id": "KMHwc92zcF_U"
      },
      "execution_count": 3,
      "outputs": []
    },
    {
      "cell_type": "code",
      "source": [
        "base_credit = Orange.data.Table('credit_data_regras.csv')"
      ],
      "metadata": {
        "id": "NKd-xBZ6c1XU"
      },
      "execution_count": 5,
      "outputs": []
    },
    {
      "cell_type": "code",
      "source": [
        "base_credit.domain"
      ],
      "metadata": {
        "colab": {
          "base_uri": "https://localhost:8080/"
        },
        "id": "SzIH9e9Kc_LI",
        "outputId": "a9ff4523-a323-4958-ab8e-7ed3d685fedc"
      },
      "execution_count": 6,
      "outputs": [
        {
          "output_type": "execute_result",
          "data": {
            "text/plain": [
              "[income, age, loan | default]"
            ]
          },
          "metadata": {},
          "execution_count": 6
        }
      ]
    },
    {
      "cell_type": "code",
      "source": [
        "base_dividida = Orange.evaluation.testing.sample(base_credit, n = 0.25)"
      ],
      "metadata": {
        "id": "AnrmRfBbeaOO"
      },
      "execution_count": 7,
      "outputs": []
    },
    {
      "cell_type": "code",
      "source": [
        "base_dividida"
      ],
      "metadata": {
        "colab": {
          "base_uri": "https://localhost:8080/"
        },
        "id": "GKdMllyVe8fT",
        "outputId": "1396f6e1-7f7b-41e4-8e70-07fc62fa91c8"
      },
      "execution_count": 8,
      "outputs": [
        {
          "output_type": "execute_result",
          "data": {
            "text/plain": [
              "([[31645.6, 32.1633, 5193.84 | 1],\n",
              "  [51653.7, 19.8775, 1853.42 | 0],\n",
              "  [62020.5, 56.6535, 114.21 | 0],\n",
              "  [25363.3, 31.3908, 3946 | 1],\n",
              "  [56676.2, 46.679, 2278.55 | 0],\n",
              "  ...\n",
              " ], [[30187.1, 28.1551, 4462.82 | 1],\n",
              "  [51035.6, 58.995, 2889.88 | 0],\n",
              "  [43421, 27.2174, 4705.76 | 0],\n",
              "  [28796.9, 44.6286, 706.229 | 0],\n",
              "  [21211.6, 32.6512, 931.781 | 0],\n",
              "  ...\n",
              " ])"
            ]
          },
          "metadata": {},
          "execution_count": 8
        }
      ]
    },
    {
      "cell_type": "code",
      "source": [
        "base_treinamento = base_dividida[1]\n",
        "base_teste = base_dividida[0]"
      ],
      "metadata": {
        "id": "H3a5_sYWfBpT"
      },
      "execution_count": 9,
      "outputs": []
    },
    {
      "cell_type": "code",
      "source": [
        "len(base_treinamento) , len(base_teste)"
      ],
      "metadata": {
        "colab": {
          "base_uri": "https://localhost:8080/"
        },
        "id": "ZA3ks7dJfdCX",
        "outputId": "a09705d7-fa10-4cb6-8371-9fbd5bd76944"
      },
      "execution_count": 10,
      "outputs": [
        {
          "output_type": "execute_result",
          "data": {
            "text/plain": [
              "(1500, 500)"
            ]
          },
          "metadata": {},
          "execution_count": 10
        }
      ]
    },
    {
      "cell_type": "code",
      "source": [
        "cn2 = Orange.classification.rules.CN2Learner()\n",
        "regras_credit = cn2(base_treinamento)\n"
      ],
      "metadata": {
        "id": "EzOpKxBxfgeM"
      },
      "execution_count": 11,
      "outputs": []
    },
    {
      "cell_type": "code",
      "source": [
        "for regras in regras_credit.rule_list:\n",
        "  print(regras)"
      ],
      "metadata": {
        "colab": {
          "base_uri": "https://localhost:8080/"
        },
        "id": "EMR9C1zLfqFO",
        "outputId": "4fc4146a-bf1d-456d-da34-32a5feb180ee"
      },
      "execution_count": 12,
      "outputs": [
        {
          "output_type": "stream",
          "name": "stdout",
          "text": [
            "IF age>=34.851817262359 THEN default=0 \n",
            "IF income>=69695.1504494064 THEN default=1 \n",
            "IF loan<=2507.64970973955 AND income>=20145.9885970689 THEN default=0 \n",
            "IF age<=18.075335860718 AND income>=50501.7266888171 THEN default=0 \n",
            "IF loan>=7708.31562497011 AND age>=20.6656169872731 THEN default=1 \n",
            "IF income>=53612.1312342584 AND loan>=8770.09923520439 THEN default=1 \n",
            "IF income>=58147.7998569608 THEN default=0 \n",
            "IF loan>=5836.56338145928 AND age>=26.854012909811 THEN default=1 \n",
            "IF loan>=6415.0862444378 THEN default=1 \n",
            "IF income>=51199.8698394746 THEN default=0 \n",
            "IF loan<=3293.25087871026 AND income>=26617.0303151011 THEN default=0 \n",
            "IF loan>=5836.56338145928 THEN default=1 \n",
            "IF income>=45360.716274008206 THEN default=0 \n",
            "IF loan>=5061.77783089573 THEN default=1 \n",
            "IF income>=32197.6207010448 AND income>=40496.2558229454 THEN default=0 \n",
            "IF loan>=4285.38691174949 THEN default=1 \n",
            "IF income>=32197.6207010448 THEN default=0 \n",
            "IF income>=25640.0788831525 THEN default=1 \n",
            "IF age>=34.7410444347188 THEN default=0 \n",
            "IF income>=24857.6948815025 THEN default=0 \n",
            "IF income<=20252.123456448302 THEN default=1 \n",
            "IF income<=20622.860097792 THEN default=1 \n",
            "IF income<=20897.4266937003 THEN default=1 \n",
            "IF income<=21412.3086119071 THEN default=1 \n",
            "IF income<=22209.0095095336 THEN default=1 \n",
            "IF income<=22832.3239297606 THEN default=1 \n",
            "IF income<=24381.9534475915 THEN default=1 \n",
            "IF TRUE THEN default=0 \n"
          ]
        }
      ]
    },
    {
      "cell_type": "code",
      "source": [
        "previsoes = Orange.evaluation.testing.TestOnTestData(base_treinamento,base_teste, [lambda testdata: regras_credit])\n"
      ],
      "metadata": {
        "id": "b88i2Jvjf1wG"
      },
      "execution_count": 13,
      "outputs": []
    },
    {
      "cell_type": "code",
      "source": [
        "previsoes"
      ],
      "metadata": {
        "colab": {
          "base_uri": "https://localhost:8080/"
        },
        "id": "jjl9vV9mgMsD",
        "outputId": "dae4cf3b-71b8-47c4-f5e1-768bee023320"
      },
      "execution_count": 14,
      "outputs": [
        {
          "output_type": "execute_result",
          "data": {
            "text/plain": [
              "<Orange.evaluation.testing.Results at 0x7f2cfd036fd0>"
            ]
          },
          "metadata": {},
          "execution_count": 14
        }
      ]
    },
    {
      "cell_type": "code",
      "source": [
        "Orange.evaluation.CA(previsoes)"
      ],
      "metadata": {
        "colab": {
          "base_uri": "https://localhost:8080/"
        },
        "id": "6c33DXvPgOzl",
        "outputId": "9036df36-a0ef-44f0-ef8f-fce14da8f737"
      },
      "execution_count": 15,
      "outputs": [
        {
          "output_type": "execute_result",
          "data": {
            "text/plain": [
              "array([0.976])"
            ]
          },
          "metadata": {},
          "execution_count": 15
        }
      ]
    }
  ]
}