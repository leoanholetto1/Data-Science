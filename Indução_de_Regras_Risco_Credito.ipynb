{
  "nbformat": 4,
  "nbformat_minor": 0,
  "metadata": {
    "colab": {
      "provenance": [],
      "authorship_tag": "ABX9TyMwyA/ea506DaDplrZZStcB",
      "include_colab_link": true
    },
    "kernelspec": {
      "name": "python3",
      "display_name": "Python 3"
    },
    "language_info": {
      "name": "python"
    }
  },
  "cells": [
    {
      "cell_type": "markdown",
      "metadata": {
        "id": "view-in-github",
        "colab_type": "text"
      },
      "source": [
        "<a href=\"https://colab.research.google.com/github/leoanholetto1/Data-Science/blob/main/Indu%C3%A7%C3%A3o_de_Regras_Risco_Credito.ipynb\" target=\"_parent\"><img src=\"https://colab.research.google.com/assets/colab-badge.svg\" alt=\"Open In Colab\"/></a>"
      ]
    },
    {
      "cell_type": "code",
      "execution_count": 1,
      "metadata": {
        "colab": {
          "base_uri": "https://localhost:8080/",
          "height": 1000
        },
        "id": "x4IxWvg5V_iT",
        "outputId": "3a6f9210-7c4e-4842-c809-175c1af59c21"
      },
      "outputs": [
        {
          "output_type": "stream",
          "name": "stdout",
          "text": [
            "Looking in indexes: https://pypi.org/simple, https://us-python.pkg.dev/colab-wheels/public/simple/\n",
            "Collecting Orange3\n",
            "  Downloading Orange3-3.34.1-cp38-cp38-manylinux_2_17_x86_64.manylinux2014_x86_64.whl (29.8 MB)\n",
            "\u001b[K     |████████████████████████████████| 29.8 MB 91.7 MB/s \n",
            "\u001b[?25hRequirement already satisfied: python-louvain>=0.13 in /usr/local/lib/python3.8/dist-packages (from Orange3) (0.16)\n",
            "Requirement already satisfied: pyyaml in /usr/local/lib/python3.8/dist-packages (from Orange3) (6.0)\n",
            "Collecting keyrings.alt\n",
            "  Downloading keyrings.alt-4.2.0-py3-none-any.whl (20 kB)\n",
            "Collecting openTSNE>=0.6.1\n",
            "  Downloading openTSNE-0.6.2-cp38-cp38-manylinux_2_17_x86_64.manylinux2014_x86_64.whl (2.7 MB)\n",
            "\u001b[K     |████████████████████████████████| 2.7 MB 48.1 MB/s \n",
            "\u001b[?25hRequirement already satisfied: pip>=18.0 in /usr/local/lib/python3.8/dist-packages (from Orange3) (21.1.3)\n",
            "Collecting baycomp>=1.0.2\n",
            "  Downloading baycomp-1.0.2-py3-none-any.whl (17 kB)\n",
            "Requirement already satisfied: scikit-learn<1.2.0,>=1.0.1 in /usr/local/lib/python3.8/dist-packages (from Orange3) (1.0.2)\n",
            "Collecting bottleneck>=1.3.4\n",
            "  Downloading Bottleneck-1.3.5-cp38-cp38-manylinux_2_5_x86_64.manylinux1_x86_64.manylinux_2_17_x86_64.manylinux2014_x86_64.whl (355 kB)\n",
            "\u001b[K     |████████████████████████████████| 355 kB 49.1 MB/s \n",
            "\u001b[?25hRequirement already satisfied: openpyxl in /usr/local/lib/python3.8/dist-packages (from Orange3) (3.0.10)\n",
            "Collecting AnyQt>=0.1.0\n",
            "  Downloading AnyQt-0.2.0-py3-none-any.whl (56 kB)\n",
            "\u001b[K     |████████████████████████████████| 56 kB 1.6 MB/s \n",
            "\u001b[?25hRequirement already satisfied: chardet>=3.0.2 in /usr/local/lib/python3.8/dist-packages (from Orange3) (3.0.4)\n",
            "Requirement already satisfied: networkx in /usr/local/lib/python3.8/dist-packages (from Orange3) (2.8.8)\n",
            "Collecting orange-canvas-core<0.2a,>=0.1.28\n",
            "  Downloading orange_canvas_core-0.1.29-py3-none-any.whl (499 kB)\n",
            "\u001b[K     |████████████████████████████████| 499 kB 16.1 MB/s \n",
            "\u001b[?25hCollecting pygments>=2.8.0\n",
            "  Downloading Pygments-2.13.0-py3-none-any.whl (1.1 MB)\n",
            "\u001b[K     |████████████████████████████████| 1.1 MB 57.5 MB/s \n",
            "\u001b[?25hCollecting keyring\n",
            "  Downloading keyring-23.13.1-py3-none-any.whl (37 kB)\n",
            "Requirement already satisfied: matplotlib>=3.2.0 in /usr/local/lib/python3.8/dist-packages (from Orange3) (3.2.2)\n",
            "Collecting xlsxwriter\n",
            "  Downloading XlsxWriter-3.0.4-py3-none-any.whl (149 kB)\n",
            "\u001b[K     |████████████████████████████████| 149 kB 58.1 MB/s \n",
            "\u001b[?25hCollecting scipy>=1.9\n",
            "  Downloading scipy-1.9.3-cp38-cp38-manylinux_2_17_x86_64.manylinux2014_x86_64.whl (33.8 MB)\n",
            "\u001b[K     |████████████████████████████████| 33.8 MB 412 kB/s \n",
            "\u001b[?25hCollecting qtconsole>=4.7.2\n",
            "  Downloading qtconsole-5.4.0-py3-none-any.whl (121 kB)\n",
            "\u001b[K     |████████████████████████████████| 121 kB 60.2 MB/s \n",
            "\u001b[?25hRequirement already satisfied: xlrd>=1.2.0 in /usr/local/lib/python3.8/dist-packages (from Orange3) (1.2.0)\n",
            "Collecting pyqtgraph!=0.12.4,>=0.12.2\n",
            "  Downloading pyqtgraph-0.13.1-py3-none-any.whl (966 kB)\n",
            "\u001b[K     |████████████████████████████████| 966 kB 48.7 MB/s \n",
            "\u001b[?25hCollecting orange-widget-base>=4.19.0\n",
            "  Downloading orange_widget_base-4.19.0-py3-none-any.whl (257 kB)\n",
            "\u001b[K     |████████████████████████████████| 257 kB 56.9 MB/s \n",
            "\u001b[?25hRequirement already satisfied: pandas!=1.5.0,>=1.3.0 in /usr/local/lib/python3.8/dist-packages (from Orange3) (1.3.5)\n",
            "Requirement already satisfied: requests in /usr/local/lib/python3.8/dist-packages (from Orange3) (2.23.0)\n",
            "Requirement already satisfied: joblib>=0.11 in /usr/local/lib/python3.8/dist-packages (from Orange3) (1.2.0)\n",
            "Collecting httpx>=0.21.0\n",
            "  Downloading httpx-0.23.1-py3-none-any.whl (84 kB)\n",
            "\u001b[K     |████████████████████████████████| 84 kB 3.7 MB/s \n",
            "\u001b[?25hCollecting serverfiles\n",
            "  Downloading serverfiles-0.3.1.tar.gz (11 kB)\n",
            "Requirement already satisfied: setuptools>=41.0.0 in /usr/local/lib/python3.8/dist-packages (from Orange3) (57.4.0)\n",
            "Requirement already satisfied: numpy>=1.19.5 in /usr/local/lib/python3.8/dist-packages (from Orange3) (1.21.6)\n",
            "Collecting sniffio\n",
            "  Downloading sniffio-1.3.0-py3-none-any.whl (10 kB)\n",
            "Requirement already satisfied: certifi in /usr/local/lib/python3.8/dist-packages (from httpx>=0.21.0->Orange3) (2022.12.7)\n",
            "Collecting rfc3986[idna2008]<2,>=1.3\n",
            "  Downloading rfc3986-1.5.0-py2.py3-none-any.whl (31 kB)\n",
            "Collecting httpcore<0.17.0,>=0.15.0\n",
            "  Downloading httpcore-0.16.3-py3-none-any.whl (69 kB)\n",
            "\u001b[K     |████████████████████████████████| 69 kB 269 kB/s \n",
            "\u001b[?25hCollecting anyio<5.0,>=3.0\n",
            "  Downloading anyio-3.6.2-py3-none-any.whl (80 kB)\n",
            "\u001b[K     |████████████████████████████████| 80 kB 7.7 MB/s \n",
            "\u001b[?25hCollecting h11<0.15,>=0.13\n",
            "  Downloading h11-0.14.0-py3-none-any.whl (58 kB)\n",
            "\u001b[K     |████████████████████████████████| 58 kB 5.8 MB/s \n",
            "\u001b[?25hRequirement already satisfied: idna>=2.8 in /usr/local/lib/python3.8/dist-packages (from anyio<5.0,>=3.0->httpcore<0.17.0,>=0.15.0->httpx>=0.21.0->Orange3) (2.10)\n",
            "Requirement already satisfied: cycler>=0.10 in /usr/local/lib/python3.8/dist-packages (from matplotlib>=3.2.0->Orange3) (0.11.0)\n",
            "Requirement already satisfied: python-dateutil>=2.1 in /usr/local/lib/python3.8/dist-packages (from matplotlib>=3.2.0->Orange3) (2.8.2)\n",
            "Requirement already satisfied: kiwisolver>=1.0.1 in /usr/local/lib/python3.8/dist-packages (from matplotlib>=3.2.0->Orange3) (1.4.4)\n",
            "Requirement already satisfied: pyparsing!=2.0.4,!=2.1.2,!=2.1.6,>=2.0.1 in /usr/local/lib/python3.8/dist-packages (from matplotlib>=3.2.0->Orange3) (3.0.9)\n",
            "Requirement already satisfied: docutils in /usr/local/lib/python3.8/dist-packages (from orange-canvas-core<0.2a,>=0.1.28->Orange3) (0.17.1)\n",
            "Collecting commonmark>=0.8.1\n",
            "  Downloading commonmark-0.9.1-py2.py3-none-any.whl (51 kB)\n",
            "\u001b[K     |████████████████████████████████| 51 kB 6.3 MB/s \n",
            "\u001b[?25hRequirement already satisfied: cachecontrol[filecache] in /usr/local/lib/python3.8/dist-packages (from orange-canvas-core<0.2a,>=0.1.28->Orange3) (0.12.11)\n",
            "Collecting dictdiffer\n",
            "  Downloading dictdiffer-0.9.0-py2.py3-none-any.whl (16 kB)\n",
            "Collecting qasync\n",
            "  Downloading qasync-0.23.0-py3-none-any.whl (13 kB)\n",
            "Requirement already satisfied: typing-extensions>=3.7.4.3 in /usr/local/lib/python3.8/dist-packages (from orange-widget-base>=4.19.0->Orange3) (4.4.0)\n",
            "Requirement already satisfied: pytz>=2017.3 in /usr/local/lib/python3.8/dist-packages (from pandas!=1.5.0,>=1.3.0->Orange3) (2022.6)\n",
            "Requirement already satisfied: six>=1.5 in /usr/local/lib/python3.8/dist-packages (from python-dateutil>=2.1->matplotlib>=3.2.0->Orange3) (1.15.0)\n",
            "Requirement already satisfied: jupyter-core in /usr/local/lib/python3.8/dist-packages (from qtconsole>=4.7.2->Orange3) (5.1.0)\n",
            "Collecting qtpy>=2.0.1\n",
            "  Downloading QtPy-2.3.0-py3-none-any.whl (83 kB)\n",
            "\u001b[K     |████████████████████████████████| 83 kB 2.0 MB/s \n",
            "\u001b[?25hRequirement already satisfied: ipython-genutils in /usr/local/lib/python3.8/dist-packages (from qtconsole>=4.7.2->Orange3) (0.2.0)\n",
            "Requirement already satisfied: ipykernel>=4.1 in /usr/local/lib/python3.8/dist-packages (from qtconsole>=4.7.2->Orange3) (5.3.4)\n",
            "Requirement already satisfied: pyzmq>=17.1 in /usr/local/lib/python3.8/dist-packages (from qtconsole>=4.7.2->Orange3) (23.2.1)\n",
            "Requirement already satisfied: traitlets!=5.2.1,!=5.2.2 in /usr/local/lib/python3.8/dist-packages (from qtconsole>=4.7.2->Orange3) (5.7.1)\n",
            "Requirement already satisfied: jupyter-client>=4.1 in /usr/local/lib/python3.8/dist-packages (from qtconsole>=4.7.2->Orange3) (6.1.12)\n",
            "Requirement already satisfied: ipython>=5.0.0 in /usr/local/lib/python3.8/dist-packages (from ipykernel>=4.1->qtconsole>=4.7.2->Orange3) (7.9.0)\n",
            "Requirement already satisfied: tornado>=4.2 in /usr/local/lib/python3.8/dist-packages (from ipykernel>=4.1->qtconsole>=4.7.2->Orange3) (6.0.4)\n",
            "Requirement already satisfied: pexpect in /usr/local/lib/python3.8/dist-packages (from ipython>=5.0.0->ipykernel>=4.1->qtconsole>=4.7.2->Orange3) (4.8.0)\n",
            "Requirement already satisfied: backcall in /usr/local/lib/python3.8/dist-packages (from ipython>=5.0.0->ipykernel>=4.1->qtconsole>=4.7.2->Orange3) (0.2.0)\n",
            "Requirement already satisfied: pickleshare in /usr/local/lib/python3.8/dist-packages (from ipython>=5.0.0->ipykernel>=4.1->qtconsole>=4.7.2->Orange3) (0.7.5)\n",
            "Requirement already satisfied: decorator in /usr/local/lib/python3.8/dist-packages (from ipython>=5.0.0->ipykernel>=4.1->qtconsole>=4.7.2->Orange3) (4.4.2)\n",
            "Requirement already satisfied: prompt-toolkit<2.1.0,>=2.0.0 in /usr/local/lib/python3.8/dist-packages (from ipython>=5.0.0->ipykernel>=4.1->qtconsole>=4.7.2->Orange3) (2.0.10)\n",
            "Collecting jedi>=0.10\n",
            "  Downloading jedi-0.18.2-py2.py3-none-any.whl (1.6 MB)\n",
            "\u001b[K     |████████████████████████████████| 1.6 MB 58.9 MB/s \n",
            "\u001b[?25hRequirement already satisfied: parso<0.9.0,>=0.8.0 in /usr/local/lib/python3.8/dist-packages (from jedi>=0.10->ipython>=5.0.0->ipykernel>=4.1->qtconsole>=4.7.2->Orange3) (0.8.3)\n",
            "Requirement already satisfied: platformdirs>=2.5 in /usr/local/lib/python3.8/dist-packages (from jupyter-core->qtconsole>=4.7.2->Orange3) (2.6.0)\n",
            "Requirement already satisfied: wcwidth in /usr/local/lib/python3.8/dist-packages (from prompt-toolkit<2.1.0,>=2.0.0->ipython>=5.0.0->ipykernel>=4.1->qtconsole>=4.7.2->Orange3) (0.2.5)\n",
            "Requirement already satisfied: packaging in /usr/local/lib/python3.8/dist-packages (from qtpy>=2.0.1->qtconsole>=4.7.2->Orange3) (21.3)\n",
            "Requirement already satisfied: threadpoolctl>=2.0.0 in /usr/local/lib/python3.8/dist-packages (from scikit-learn<1.2.0,>=1.0.1->Orange3) (3.1.0)\n",
            "Requirement already satisfied: msgpack>=0.5.2 in /usr/local/lib/python3.8/dist-packages (from cachecontrol[filecache]->orange-canvas-core<0.2a,>=0.1.28->Orange3) (1.0.4)\n",
            "Collecting lockfile>=0.9\n",
            "  Downloading lockfile-0.12.2-py2.py3-none-any.whl (13 kB)\n",
            "Collecting jeepney>=0.4.2\n",
            "  Downloading jeepney-0.8.0-py3-none-any.whl (48 kB)\n",
            "\u001b[K     |████████████████████████████████| 48 kB 5.5 MB/s \n",
            "\u001b[?25hCollecting jaraco.classes\n",
            "  Downloading jaraco.classes-3.2.3-py3-none-any.whl (6.0 kB)\n",
            "Collecting SecretStorage>=3.2\n",
            "  Downloading SecretStorage-3.3.3-py3-none-any.whl (15 kB)\n",
            "Requirement already satisfied: importlib-metadata>=4.11.4 in /usr/local/lib/python3.8/dist-packages (from keyring->Orange3) (5.1.0)\n",
            "Requirement already satisfied: importlib-resources in /usr/local/lib/python3.8/dist-packages (from keyring->Orange3) (5.10.1)\n",
            "Requirement already satisfied: zipp>=0.5 in /usr/local/lib/python3.8/dist-packages (from importlib-metadata>=4.11.4->keyring->Orange3) (3.11.0)\n",
            "Collecting cryptography>=2.0\n",
            "  Downloading cryptography-38.0.4-cp36-abi3-manylinux_2_24_x86_64.whl (4.0 MB)\n",
            "\u001b[K     |████████████████████████████████| 4.0 MB 41.4 MB/s \n",
            "\u001b[?25hRequirement already satisfied: cffi>=1.12 in /usr/local/lib/python3.8/dist-packages (from cryptography>=2.0->SecretStorage>=3.2->keyring->Orange3) (1.15.1)\n",
            "Requirement already satisfied: pycparser in /usr/local/lib/python3.8/dist-packages (from cffi>=1.12->cryptography>=2.0->SecretStorage>=3.2->keyring->Orange3) (2.21)\n",
            "Requirement already satisfied: more-itertools in /usr/local/lib/python3.8/dist-packages (from jaraco.classes->keyring->Orange3) (9.0.0)\n",
            "Requirement already satisfied: et-xmlfile in /usr/local/lib/python3.8/dist-packages (from openpyxl->Orange3) (1.1.0)\n",
            "Requirement already satisfied: ptyprocess>=0.5 in /usr/local/lib/python3.8/dist-packages (from pexpect->ipython>=5.0.0->ipykernel>=4.1->qtconsole>=4.7.2->Orange3) (0.7.0)\n",
            "Requirement already satisfied: urllib3!=1.25.0,!=1.25.1,<1.26,>=1.21.1 in /usr/local/lib/python3.8/dist-packages (from requests->Orange3) (1.24.3)\n",
            "Building wheels for collected packages: serverfiles\n",
            "  Building wheel for serverfiles (setup.py) ... \u001b[?25l\u001b[?25hdone\n",
            "  Created wheel for serverfiles: filename=serverfiles-0.3.1-py3-none-any.whl size=6947 sha256=7f3d07d2a18f0dd6d943f6978d762ace71413459671349d07801c2a87d1b48b6\n",
            "  Stored in directory: /root/.cache/pip/wheels/84/4b/a4/233da5e4477309b7a6e38f3e48511005fcfd1e4a2a8c4be34f\n",
            "Successfully built serverfiles\n",
            "Installing collected packages: sniffio, pygments, lockfile, jedi, scipy, rfc3986, qasync, jeepney, h11, dictdiffer, cryptography, commonmark, AnyQt, anyio, SecretStorage, qtpy, pyqtgraph, orange-canvas-core, jaraco.classes, httpcore, xlsxwriter, serverfiles, qtconsole, orange-widget-base, openTSNE, keyrings.alt, keyring, httpx, bottleneck, baycomp, Orange3\n",
            "  Attempting uninstall: pygments\n",
            "    Found existing installation: Pygments 2.6.1\n",
            "    Uninstalling Pygments-2.6.1:\n",
            "      Successfully uninstalled Pygments-2.6.1\n",
            "  Attempting uninstall: scipy\n",
            "    Found existing installation: scipy 1.7.3\n",
            "    Uninstalling scipy-1.7.3:\n",
            "      Successfully uninstalled scipy-1.7.3\n",
            "Successfully installed AnyQt-0.2.0 Orange3-3.34.1 SecretStorage-3.3.3 anyio-3.6.2 baycomp-1.0.2 bottleneck-1.3.5 commonmark-0.9.1 cryptography-38.0.4 dictdiffer-0.9.0 h11-0.14.0 httpcore-0.16.3 httpx-0.23.1 jaraco.classes-3.2.3 jedi-0.18.2 jeepney-0.8.0 keyring-23.13.1 keyrings.alt-4.2.0 lockfile-0.12.2 openTSNE-0.6.2 orange-canvas-core-0.1.29 orange-widget-base-4.19.0 pygments-2.13.0 pyqtgraph-0.13.1 qasync-0.23.0 qtconsole-5.4.0 qtpy-2.3.0 rfc3986-1.5.0 scipy-1.9.3 serverfiles-0.3.1 sniffio-1.3.0 xlsxwriter-3.0.4\n"
          ]
        },
        {
          "output_type": "display_data",
          "data": {
            "application/vnd.colab-display-data+json": {
              "pip_warning": {
                "packages": [
                  "pygments"
                ]
              }
            }
          },
          "metadata": {}
        }
      ],
      "source": [
        "!pip install Orange3"
      ]
    },
    {
      "cell_type": "code",
      "source": [
        "import Orange"
      ],
      "metadata": {
        "id": "VjCup_EOWoQj"
      },
      "execution_count": 1,
      "outputs": []
    },
    {
      "cell_type": "code",
      "source": [
        "base_risco_credito = Orange.data.Table('risco_credito_regras.csv')\n",
        "     "
      ],
      "metadata": {
        "id": "Rbj0N36AWKe2"
      },
      "execution_count": 3,
      "outputs": []
    },
    {
      "cell_type": "code",
      "source": [
        "base_risco_credito"
      ],
      "metadata": {
        "colab": {
          "base_uri": "https://localhost:8080/"
        },
        "id": "TU2KnjCDXjPH",
        "outputId": "caa8f7b5-5a28-4dee-d042-feb27cf644e7"
      },
      "execution_count": 4,
      "outputs": [
        {
          "output_type": "execute_result",
          "data": {
            "text/plain": [
              "[[ruim, alta, nenhuma, 0_15 | alto],\n",
              " [desconhecida, alta, nenhuma, 15_35 | alto],\n",
              " [desconhecida, baixa, nenhuma, 15_35 | moderado],\n",
              " [desconhecida, baixa, nenhuma, acima_35 | alto],\n",
              " [desconhecida, baixa, nenhuma, acima_35 | baixo],\n",
              " ...\n",
              "]"
            ]
          },
          "metadata": {},
          "execution_count": 4
        }
      ]
    },
    {
      "cell_type": "code",
      "source": [
        "base_risco_credito.domain"
      ],
      "metadata": {
        "colab": {
          "base_uri": "https://localhost:8080/"
        },
        "id": "FtftTcYbXskS",
        "outputId": "a32c64eb-049f-4681-8e18-68f0f9aff686"
      },
      "execution_count": 5,
      "outputs": [
        {
          "output_type": "execute_result",
          "data": {
            "text/plain": [
              "[historia, divida, garantias, renda | risco]"
            ]
          },
          "metadata": {},
          "execution_count": 5
        }
      ]
    },
    {
      "cell_type": "code",
      "source": [
        "cn2 = Orange.classification.rules.CN2Learner()\n",
        "regras_risco_credito = cn2(base_risco_credito)"
      ],
      "metadata": {
        "id": "W0U8tGmGYS9r"
      },
      "execution_count": 7,
      "outputs": []
    },
    {
      "cell_type": "code",
      "source": [
        "for regras in regras_risco_credito.rule_list:\n",
        "  print(regras)"
      ],
      "metadata": {
        "colab": {
          "base_uri": "https://localhost:8080/"
        },
        "id": "lS71Esr7Yxxx",
        "outputId": "448e1148-6c0e-45b7-d9da-427a143870b0"
      },
      "execution_count": 9,
      "outputs": [
        {
          "output_type": "stream",
          "name": "stdout",
          "text": [
            "IF renda==0_15 THEN risco=alto \n",
            "IF historia==boa AND divida!=alta THEN risco=baixo \n",
            "IF historia==boa AND garantias!=nenhuma THEN risco=baixo \n",
            "IF historia==boa AND renda!=15_35 THEN risco=baixo \n",
            "IF historia==boa THEN risco=moderado \n",
            "IF divida==alta THEN risco=alto \n",
            "IF historia!=desconhecida THEN risco=moderado \n",
            "IF garantias==adequada THEN risco=baixo \n",
            "IF renda==15_35 THEN risco=moderado \n",
            "IF historia==desconhecida THEN risco=baixo \n",
            "IF TRUE THEN risco=alto \n"
          ]
        }
      ]
    },
    {
      "cell_type": "code",
      "source": [
        "previsoes = regras_risco_credito([['boa','alta','nenhuma','acima_35'],['ruim','alta','adequada','0_15']])\n",
        "previsoes"
      ],
      "metadata": {
        "colab": {
          "base_uri": "https://localhost:8080/"
        },
        "id": "MLjr8Z_2Y6W1",
        "outputId": "27b61e18-541c-46ac-d6b2-7a523eeefe54"
      },
      "execution_count": 13,
      "outputs": [
        {
          "output_type": "execute_result",
          "data": {
            "text/plain": [
              "array([1, 0])"
            ]
          },
          "metadata": {},
          "execution_count": 13
        }
      ]
    },
    {
      "cell_type": "code",
      "source": [
        "base_risco_credito.domain.class_var"
      ],
      "metadata": {
        "colab": {
          "base_uri": "https://localhost:8080/"
        },
        "id": "A649GlhbZ4Zm",
        "outputId": "44f086c0-5e5a-4a08-bfba-e8d44666ce42"
      },
      "execution_count": 14,
      "outputs": [
        {
          "output_type": "execute_result",
          "data": {
            "text/plain": [
              "DiscreteVariable(name='risco', values=('alto', 'baixo', 'moderado'))"
            ]
          },
          "metadata": {},
          "execution_count": 14
        }
      ]
    },
    {
      "cell_type": "code",
      "source": [
        "for i in previsoes:\n",
        "  print(base_risco_credito.domain.class_var.values[i])"
      ],
      "metadata": {
        "colab": {
          "base_uri": "https://localhost:8080/"
        },
        "id": "zUtNAlWOaGVI",
        "outputId": "8c46be96-7b68-4307-906e-b6013d038071"
      },
      "execution_count": 17,
      "outputs": [
        {
          "output_type": "stream",
          "name": "stdout",
          "text": [
            "baixo\n",
            "alto\n"
          ]
        }
      ]
    }
  ]
}